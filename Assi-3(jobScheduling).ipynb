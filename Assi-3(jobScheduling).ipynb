{
 "cells": [
  {
   "cell_type": "code",
   "execution_count": 5,
   "metadata": {},
   "outputs": [
    {
     "name": "stdout",
     "output_type": "stream",
     "text": [
      "['c', 'a', 'e']\n"
     ]
    }
   ],
   "source": [
    "def jobScheduling(arr, t):\n",
    "\n",
    "    n = len(arr)\n",
    "\n",
    "    # sort arr\n",
    "\n",
    "    for i in range(n):\n",
    "        for j in range(n-i-1):\n",
    "            if arr[j][2] < arr[j+1][2]:\n",
    "                arr[j], arr[j+1] = arr[j+1], arr[j]\n",
    "\n",
    "    \n",
    "    # timeslot\n",
    "    result = [False]*t\n",
    "\n",
    "    # job sequence\n",
    "    job = ['-1']*t\n",
    "\n",
    "    for i in range(n):\n",
    "        for j in range(min(t-1, arr[i][1]-1), -1, -1):\n",
    "            if result[j] is False:\n",
    "                result[j] = True\n",
    "                job[j] = arr[i][0]\n",
    "                break\n",
    "\n",
    "    print(job)\n",
    "\n",
    "arr = [['a', 2, 100],  # Job Array\n",
    "              ['b', 1, 19],\n",
    "              ['c', 2, 27],\n",
    "              ['d', 1, 25],\n",
    "              ['e', 3, 15]]\n",
    "\n",
    "jobScheduling(arr,3)\n"
   ]
  }
 ],
 "metadata": {
  "kernelspec": {
   "display_name": "Python 3",
   "language": "python",
   "name": "python3"
  },
  "language_info": {
   "codemirror_mode": {
    "name": "ipython",
    "version": 3
   },
   "file_extension": ".py",
   "mimetype": "text/x-python",
   "name": "python",
   "nbconvert_exporter": "python",
   "pygments_lexer": "ipython3",
   "version": "3.11.3"
  },
  "orig_nbformat": 4
 },
 "nbformat": 4,
 "nbformat_minor": 2
}
