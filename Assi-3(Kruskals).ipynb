{
 "cells": [
  {
   "cell_type": "code",
   "execution_count": null,
   "metadata": {},
   "outputs": [],
   "source": [
    "class Edge:\n",
    "    def __init__(self, src, dest, wt):\n",
    "        self.src = src\n",
    "        self.dest = dest\n",
    "        self.wt = wt"
   ]
  },
  {
   "cell_type": "code",
   "execution_count": null,
   "metadata": {},
   "outputs": [],
   "source": [
    "def getParent(v, parent):\n",
    "    if v == parent[v]:\n",
    "        return v\n",
    "    \n",
    "    return getParent(parent[v], parent)"
   ]
  },
  {
   "cell_type": "code",
   "execution_count": null,
   "metadata": {},
   "outputs": [],
   "source": [
    "def Kruskals(edges, n, E):\n",
    "    edges = sorted(edges, key= lambda edge:edge.wt)\n",
    "    output = []\n",
    "\n",
    "    parent = [i for i in range(n)]\n",
    "    count = 0\n",
    "    i = 0\n",
    "\n",
    "    while count < n-1:\n",
    "        currentEdge = edges[i]\n",
    "\n",
    "        srcParent = getParent(currentEdge.src, parent)\n",
    "        destParent = getParent(currentEdge.dest, parent)\n",
    "\n",
    "        if srcParent != destParent:\n",
    "            output.append(currentEdge)\n",
    "            count += 1\n",
    "            parent[srcParent] = destParent\n",
    "        i += 1\n",
    "    return output"
   ]
  },
  {
   "cell_type": "code",
   "execution_count": null,
   "metadata": {},
   "outputs": [],
   "source": [
    "li = [int(ele) for ele in input().split()]\n",
    "n = li[0]\n",
    "E = li[1]\n",
    "\n",
    "edges = []\n",
    "for i in range(E):\n",
    "    curr_input = [int(ele) for ele in input().split()]\n",
    "    src = curr_input[0]\n",
    "    dest = curr_input[1]\n",
    "    wt = curr_input[2]\n",
    "    edge = Edge(src, dest, wt)\n",
    "    edges.append(edge)\n",
    "\n",
    "output = Kruskals(edges, n, E)\n",
    "\n",
    "for ele in output:\n",
    "    if ele.src < ele.dest:\n",
    "        print(str(ele.src) + \" \" + str(ele.dest) + \" \" + str(ele.wt))\n",
    "    else:\n",
    "        print(str(ele.dest) + \" \" + str(ele.src) + \" \" + str(ele.wt))\n",
    "\n",
    "# First line of input: n E\n",
    "# Further E lines of input will be in the format: \"source destination weight\""
   ]
  }
 ],
 "metadata": {
  "kernelspec": {
   "display_name": "Python 3",
   "language": "python",
   "name": "python3"
  },
  "language_info": {
   "codemirror_mode": {
    "name": "ipython",
    "version": 3
   },
   "file_extension": ".py",
   "mimetype": "text/x-python",
   "name": "python",
   "nbconvert_exporter": "python",
   "pygments_lexer": "ipython3",
   "version": "3.11.3"
  },
  "orig_nbformat": 4
 },
 "nbformat": 4,
 "nbformat_minor": 2
}
