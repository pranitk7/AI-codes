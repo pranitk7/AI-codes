{
 "cells": [
  {
   "cell_type": "code",
   "execution_count": 3,
   "metadata": {},
   "outputs": [],
   "source": [
    "class Graph:\n",
    "    def __init__(self,nVertices):\n",
    "        self.nVertices = nVertices\n",
    "        self.adjMatrix = [[0]*nVertices for i in range(nVertices)]\n",
    "\n",
    "    def addEdge(self, v1, v2):\n",
    "        self.adjMatrix[v1][v2] = 1\n",
    "        self.adjMatrix[v2][v1] = 1\n",
    "\n",
    "    def is_Safe(self, v, color, colors_arr):\n",
    "        for i in range(self.nVertices):\n",
    "            if self.adjMatrix[v][i] == 1 and colors_arr[i] == color:\n",
    "                return False\n",
    "        return True\n",
    "\n",
    "    def graph_coloring_utils(self, num_colors, colors_arr, v):\n",
    "        if v == self.nVertices:\n",
    "            return True\n",
    "        \n",
    "        for color in range(1, num_colors+1):\n",
    "            if self.is_Safe(v, color, colors_arr):\n",
    "                colors_arr[v] = color\n",
    "                if self.graph_coloring_utils(num_colors, colors_arr, v+1):\n",
    "                    return True\n",
    "                colors_arr[v] = 0\n",
    "\n",
    "        return False\n",
    "\n",
    "    def graph_coloring(self, num_colors):\n",
    "        colors_arr = [0]*self.nVertices\n",
    "\n",
    "        if self.graph_coloring_utils(num_colors, colors_arr, 0):\n",
    "            print(\"Graph can be colored using\", num_colors, \"colors.\")\n",
    "            print(\"Color assignment:\", colors_arr)\n",
    "        else:\n",
    "            print(\"Graph cannot be colored using\", num_colors, \"colors.\")\n",
    "        "
   ]
  },
  {
   "cell_type": "code",
   "execution_count": 4,
   "metadata": {},
   "outputs": [
    {
     "name": "stdout",
     "output_type": "stream",
     "text": [
      "success\n",
      "None\n"
     ]
    }
   ],
   "source": [
    "g = Graph(5)\n",
    "g.addEdge(0, 1)\n",
    "g.addEdge(0, 2)\n",
    "g.addEdge(1, 2)\n",
    "g.addEdge(1, 3)\n",
    "g.addEdge(2, 3)\n",
    "g.addEdge(3, 4)\n",
    "\n",
    "num_colors = 3\n",
    "print(g.graph_coloring(num_colors))"
   ]
  }
 ],
 "metadata": {
  "kernelspec": {
   "display_name": "Python 3",
   "language": "python",
   "name": "python3"
  },
  "language_info": {
   "codemirror_mode": {
    "name": "ipython",
    "version": 3
   },
   "file_extension": ".py",
   "mimetype": "text/x-python",
   "name": "python",
   "nbconvert_exporter": "python",
   "pygments_lexer": "ipython3",
   "version": "3.11.3"
  },
  "orig_nbformat": 4
 },
 "nbformat": 4,
 "nbformat_minor": 2
}
