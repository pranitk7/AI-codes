{
 "cells": [
  {
   "cell_type": "code",
   "execution_count": 7,
   "metadata": {},
   "outputs": [
    {
     "name": "stdout",
     "output_type": "stream",
     "text": [
      "X  Q  X  X  \n",
      "X  X  X  Q  \n",
      "Q  X  X  X  \n",
      "X  X  Q  X  \n",
      "X  X  Q  X  \n",
      "Q  X  X  X  \n",
      "X  X  X  Q  \n",
      "X  Q  X  X  \n",
      "2\n"
     ]
    }
   ],
   "source": [
    "def queens(board, row):\n",
    "    if row == len(board):\n",
    "        display(board)\n",
    "        return 1\n",
    "    count = 0\n",
    "    for col in range(len(board)):\n",
    "\n",
    "        if isSafe(board, row, col):\n",
    "            board[row][col] = True\n",
    "            count = count + queens(board, row+1)\n",
    "            board[row][col] = False\n",
    "    \n",
    "    return count\n",
    "\n",
    "def isSafe(board, row, col):\n",
    "    for i in range(row):\n",
    "        if board[i][col]:\n",
    "            return False\n",
    "        \n",
    "    maxLeft = min(row, col)\n",
    "\n",
    "    for i in range(1, maxLeft+1):\n",
    "        if board[row-i][col-i]:\n",
    "            return False\n",
    "        \n",
    "    maxRight = min(row, len(board) - col - 1)\n",
    "    for i in range(1, maxRight+1):\n",
    "        if board[row-i][col+i]:\n",
    "            return False\n",
    "        \n",
    "    return True\n",
    "\n",
    "def display(board):\n",
    "    for i in board:\n",
    "        for j in i:\n",
    "            if(j):\n",
    "                print(\"Q \", end=' ')\n",
    "            else:\n",
    "                print(\"X \", end=' ')\n",
    "        print()\n",
    "\n",
    "def main():\n",
    "    board = [[False, False, False, False],\n",
    "             [False, False, False, False],\n",
    "             [False, False, False, False],\n",
    "             [False, False, False, False]]\n",
    "    count = queens(board, 0)\n",
    "    print(count)\n",
    "\n",
    "main()"
   ]
  },
  {
   "cell_type": "code",
   "execution_count": null,
   "metadata": {},
   "outputs": [],
   "source": []
  },
  {
   "cell_type": "code",
   "execution_count": null,
   "metadata": {},
   "outputs": [],
   "source": []
  },
  {
   "cell_type": "code",
   "execution_count": null,
   "metadata": {},
   "outputs": [],
   "source": [
    "\n"
   ]
  }
 ],
 "metadata": {
  "kernelspec": {
   "display_name": "Python 3",
   "language": "python",
   "name": "python3"
  },
  "language_info": {
   "codemirror_mode": {
    "name": "ipython",
    "version": 3
   },
   "file_extension": ".py",
   "mimetype": "text/x-python",
   "name": "python",
   "nbconvert_exporter": "python",
   "pygments_lexer": "ipython3",
   "version": "3.11.3"
  },
  "orig_nbformat": 4
 },
 "nbformat": 4,
 "nbformat_minor": 2
}
