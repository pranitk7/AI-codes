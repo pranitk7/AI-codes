{
 "cells": [
  {
   "cell_type": "code",
   "execution_count": null,
   "metadata": {},
   "outputs": [],
   "source": [
    "import sys\n",
    "class Graph:\n",
    "    def __init__(self,nVertices):\n",
    "        self.nVertices = nVertices\n",
    "        self.adjMatrix = [[0 for i in range(nVertices)] for j in range(nVertices)]\n",
    "    \n",
    "    def addEdge(self, v1, v2, wt):\n",
    "        self.adjMatrix[v1][v2] = wt\n",
    "        self.adjMatrix[v2][v1] = wt\n",
    "\n",
    "    def findMinVertex(self, visited, weights):\n",
    "        minVertex = -1\n",
    "        for i in range(self.nVertices):\n",
    "            if (visited[i] is False and (minVertex == -1 or (weights[i] < weights[minVertex]))):\n",
    "                minVertex = i\n",
    "        return minVertex\n",
    "    \n",
    "    def Prims(self):\n",
    "\n",
    "        parent = [-1 for i in range(self.nVertices)]\n",
    "        weights = [sys.maxsize for i in range(self.nVertices)]\n",
    "        visited = [False for i in range(self.nVertices)]\n",
    "\n",
    "    \n",
    "\n",
    "        for i in range(self.nVertices - 1):\n",
    "            minVertex = self.findMinVertex(visited, weights)\n",
    "            visited[minVertex] = True\n",
    "\n",
    "            for j in range(self.nVertices):\n",
    "                if (self.adjMatrix[minVertex][j] > 0 and visited[j] is False):\n",
    "                    if (self.adjMatrix[minVertex][j] < weights[j]):\n",
    "                        weights[j] = self.adjMatrix[minVertex][j]\n",
    "                        parent[j] = minVertex\n",
    "\n",
    "        for i in range(1,self.nVertices):\n",
    "            if parent[i] > i:\n",
    "                print(str(i) + \" \" + str(parent[i]) + \" \" + str(weights[i]))\n",
    "            else:\n",
    "                print(str(parent[i]) + \" \" + str(i) + \" \" + str(weights[i]))"
   ]
  },
  {
   "cell_type": "code",
   "execution_count": null,
   "metadata": {},
   "outputs": [],
   "source": [
    "li = [int(ele) for ele in input().split()]\n",
    "n = li[0]\n",
    "E = li[1]\n",
    "g = Graph(n)\n",
    "\n",
    "for i in range(E):\n",
    "    curr_Edge = [int(ele) for ele in input().split()]\n",
    "    g.addEdge(curr_Edge[0], curr_Edge[1], curr_Edge[2])\n",
    "\n",
    "g.Prims()"
   ]
  }
 ],
 "metadata": {
  "kernelspec": {
   "display_name": "Python 3",
   "language": "python",
   "name": "python3"
  },
  "language_info": {
   "codemirror_mode": {
    "name": "ipython",
    "version": 3
   },
   "file_extension": ".py",
   "mimetype": "text/x-python",
   "name": "python",
   "nbconvert_exporter": "python",
   "pygments_lexer": "ipython3",
   "version": "3.11.3"
  },
  "orig_nbformat": 4
 },
 "nbformat": 4,
 "nbformat_minor": 2
}
